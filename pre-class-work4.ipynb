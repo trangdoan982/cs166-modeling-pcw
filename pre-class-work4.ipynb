{
 "cells": [
  {
   "cell_type": "code",
   "execution_count": 1,
   "metadata": {},
   "outputs": [],
   "source": [
    "import heapq\n",
    "\n",
    "class Event:\n",
    "    '''\n",
    "    Store the properties of one event in the Schedule class defined below. Each\n",
    "    event has a time at which it needs to run, a function to call when running\n",
    "    the event, along with the arguments and keyword arguments to pass to that\n",
    "    function.\n",
    "    '''\n",
    "    def __init__(self, timestamp, function, *args, **kwargs):\n",
    "        self.timestamp = timestamp\n",
    "        self.function = function\n",
    "        self.args = args\n",
    "        self.kwargs = kwargs\n",
    "\n",
    "    def __lt__(self, other):\n",
    "        '''\n",
    "        This overloads the less-than operator in Python. We need it so the\n",
    "        priority queue knows how to compare two events. We want events with\n",
    "        earlier (smaller) times to go first.\n",
    "        '''\n",
    "        return self.timestamp < other.timestamp\n",
    "\n",
    "    def run(self, schedule):\n",
    "        '''\n",
    "        Run an event by calling the function with its arguments and keyword\n",
    "        arguments. The first argument to any event function is always the\n",
    "        schedule in which events are being tracked. The schedule object can be\n",
    "        used to add new events to the priority queue.\n",
    "        '''\n",
    "        self.function(schedule, *self.args, **self.kwargs)\n",
    "\n",
    "\n",
    "class Schedule:\n",
    "    '''\n",
    "    Implement an event schedule using a priority queue. You can add events and\n",
    "    run the next event.\n",
    "    \n",
    "    The `now` attribute contains the time at which the last event was run.\n",
    "    '''\n",
    "    \n",
    "    def __init__(self):\n",
    "        self.now = 0  # Keep track of the current simulation time\n",
    "        self.priority_queue = []  # The priority queue of events to run\n",
    "    \n",
    "    def add_event_at(self, timestamp, function, *args, **kwargs):\n",
    "        # Add an event to the schedule at a particular point in time.\n",
    "        heapq.heappush(\n",
    "            self.priority_queue,\n",
    "            Event(timestamp, function, *args, **kwargs))\n",
    "    \n",
    "    def add_event_after(self, interval, function, *args, **kwargs):\n",
    "        # Add an event to the schedule after a specified time interval.\n",
    "        self.add_event_at(self.now + interval, function, *args, **kwargs)\n",
    "    \n",
    "    def next_event_time(self):\n",
    "        return self.priority_queue[0].timestamp\n",
    "\n",
    "    def run_next_event(self):\n",
    "        # Get the next event from the priority queue and run it.\n",
    "        event = heapq.heappop(self.priority_queue)\n",
    "        self.now = event.timestamp\n",
    "        event.run(self)\n",
    "        \n",
    "    def __repr__(self):\n",
    "        return (\n",
    "            f'Schedule() at time {self.now} ' +\n",
    "            f'with {len(self.priority_queue)} events in the queue')\n",
    "    \n",
    "    def print_events(self):\n",
    "        print(repr(self))\n",
    "        for event in sorted(self.priority_queue):\n",
    "            print(f'   {event.timestamp}: {event.function.__name__}')\n"
   ]
  },
  {
   "cell_type": "code",
   "execution_count": 2,
   "metadata": {},
   "outputs": [],
   "source": [
    "# M/D/1 queue\n",
    "\n",
    "import scipy.stats as sts\n",
    "\n",
    "\n",
    "class Queue:\n",
    "    def __init__(self, service_rate):\n",
    "        # Store the deterministic service time for an M/D/1 queue\n",
    "        self.service_time = 1 / service_rate\n",
    "        # We start with an empty queue and the server not busy\n",
    "        self.people_in_queue = 0\n",
    "        self.people_being_served = 0\n",
    "\n",
    "    def add_customer(self, schedule):\n",
    "        # Add the customer to the queue\n",
    "        self.people_in_queue += 1\n",
    "        if self.people_being_served < 1:\n",
    "            # This customer can be served immediately\n",
    "            schedule.add_event_after(0, self.start_serving_customer)\n",
    "            \n",
    "    def start_serving_customer(self, schedule):\n",
    "        # Move the customer from the queue to a server\n",
    "        self.people_in_queue -= 1\n",
    "        self.people_being_served += 1\n",
    "        # Schedule when the server will be done with the customer\n",
    "        schedule.add_event_after(\n",
    "            self.service_time,\n",
    "            self.finish_serving_customer)\n",
    "            \n",
    "    def finish_serving_customer(self, schedule):\n",
    "        # Remove the customer from the server\n",
    "        self.people_being_served -= 1\n",
    "        if self.people_in_queue > 0:\n",
    "            # There are more people in the queue so serve the next customer\n",
    "            schedule.add_event_after(0, self.start_serving_customer)\n",
    "\n",
    "\n",
    "class BusSystem:\n",
    "    \n",
    "    def __init__(self, arrival_rate, service_rate):\n",
    "        self.queue = Queue(service_rate)\n",
    "        self.arrival_distribution = sts.expon(scale=1/arrival_rate)\n",
    "\n",
    "    def add_customer(self, schedule):\n",
    "        # Add this customer to the queue\n",
    "        self.queue.add_customer(schedule)\n",
    "        # Schedule when to add another customer\n",
    "        schedule.add_event_after(\n",
    "            self.arrival_distribution.rvs(),\n",
    "            self.add_customer)\n",
    "\n",
    "    def run(self, schedule):\n",
    "        # Schedule when the first customer arrives\n",
    "        schedule.add_event_after(\n",
    "            self.arrival_distribution.rvs(),\n",
    "            self.add_customer)\n",
    "        \n",
    "\n",
    "def run_simulation(arrival_rate, service_rate, run_until):\n",
    "    schedule = Schedule()\n",
    "    bus_system = BusSystem(arrival_rate, service_rate)\n",
    "    bus_system.run(schedule)\n",
    "    while schedule.next_event_time() < run_until:\n",
    "        schedule.run_next_event()\n",
    "    return bus_system"
   ]
  },
  {
   "cell_type": "markdown",
   "metadata": {},
   "source": [
    "## Start with an arrival rate of 0.8 and a service rate of 1."
   ]
  },
  {
   "cell_type": "code",
   "execution_count": 20,
   "metadata": {},
   "outputs": [
    {
     "name": "stdout",
     "output_type": "stream",
     "text": [
      "There are 0 people in the queue\n"
     ]
    }
   ],
   "source": [
    "# Run a short test\n",
    "bus_system = run_simulation(arrival_rate=0.8, service_rate=1, run_until=200)\n",
    "print(f'There are {bus_system.queue.people_in_queue} people in the queue')"
   ]
  },
  {
   "cell_type": "markdown",
   "metadata": {},
   "source": [
    "## Repeat the trial 100 times"
   ]
  },
  {
   "cell_type": "code",
   "execution_count": 22,
   "metadata": {},
   "outputs": [
    {
     "name": "stdout",
     "output_type": "stream",
     "text": [
      "[3, 0, 2, 0, 1, 1, 0, 4, 2, 4, 1, 0, 3, 1, 3, 0, 1, 0, 2, 3, 2, 7, 0, 1, 2, 3, 0, 2, 0, 0, 0, 3, 1, 0, 4, 0, 1, 3, 0, 1, 2, 1, 0, 8, 0, 0, 3, 0, 4, 1, 0, 0, 5, 0, 16, 3, 1, 0, 0, 3, 4, 1, 0, 1, 0, 0, 7, 0, 1, 0, 4, 0, 1, 0, 0, 0, 4, 0, 6, 0, 2, 1, 3, 0, 0, 5, 0, 0, 2, 2, 0, 0, 1, 1, 1, 0, 2, 2, 0, 5]\n"
     ]
    }
   ],
   "source": [
    "q_length = []\n",
    "for i in range(100):\n",
    "    bus_system = run_simulation(arrival_rate=0.8, service_rate=1, run_until=200)\n",
    "    q_length.append(bus_system.queue.people_in_queue)\n",
    "print((q_length))"
   ]
  },
  {
   "cell_type": "markdown",
   "metadata": {},
   "source": [
    "Plot the histogram"
   ]
  },
  {
   "cell_type": "code",
   "execution_count": 27,
   "metadata": {},
   "outputs": [
    {
     "data": {
      "image/png": "[encoded data removed]",
      "text/plain": [
       "<Figure size 432x288 with 1 Axes>"
      ]
     },
     "metadata": {
      "needs_background": "light"
     },
     "output_type": "display_data"
    }
   ],
   "source": [
    "import matplotlib.pyplot as plt\n",
    "\n",
    "plt.hist(q_length, bins=20)\n",
    "plt.title(\"Frequency of queue lengths in 100 simulations\")\n",
    "plt.xlabel(\"Number of people in queue\")\n",
    "plt.ylabel(\"Frequency\")\n",
    "plt.show()"
   ]
  },
  {
   "cell_type": "code",
   "execution_count": 33,
   "metadata": {},
   "outputs": [
    {
     "name": "stdout",
     "output_type": "stream",
     "text": [
      "The average queue length is  1.64\n",
      "95% confidence interval of average queue length is:  [2.097350302715478, 1.182649697284522]\n"
     ]
    }
   ],
   "source": [
    "import numpy as np\n",
    "import scipy.stats as sts\n",
    "# Average queue length\n",
    "mean = np.mean(q_length)\n",
    "print(\"The average queue length is \", mean)\n",
    "\n",
    "#95% Confidence interval of average queue length\n",
    "std_err_mean = sts.sem(q_length)\n",
    "np.std(q_length)\n",
    "print(\"95% confidence interval of average queue length is: \",\n",
    "      [mean + 1.96*std_err_mean, mean - 1.96*std_err_mean])\n"
   ]
  },
  {
   "cell_type": "markdown",
   "metadata": {},
   "source": [
    "## Repeat the simulation 1000 times"
   ]
  },
  {
   "cell_type": "code",
   "execution_count": 29,
   "metadata": {},
   "outputs": [
    {
     "data": {
      "image/png": "[encoded data removed]",
      "text/plain": [
       "<Figure size 432x288 with 1 Axes>"
      ]
     },
     "metadata": {
      "needs_background": "light"
     },
     "output_type": "display_data"
    }
   ],
   "source": [
    "q_length_1000 = []\n",
    "for i in range(1000):\n",
    "    bus_system = run_simulation(\n",
    "        arrival_rate=0.8, service_rate=1, run_until=200)\n",
    "    q_length_1000.append(bus_system.queue.people_in_queue)\n",
    "plt.hist(q_length_1000, bins=20)\n",
    "plt.title(\"Frequency of queue lengths in 1000 simulations\")\n",
    "plt.xlabel(\"Number of people in queue\")\n",
    "plt.ylabel(\"Frequency\")\n",
    "plt.show()\n"
   ]
  },
  {
   "cell_type": "markdown",
   "metadata": {},
   "source": [
    "Compute the average queue length and its confidence interval"
   ]
  },
  {
   "cell_type": "code",
   "execution_count": 34,
   "metadata": {},
   "outputs": [
    {
     "name": "stdout",
     "output_type": "stream",
     "text": [
      "The average queue length is  1.618\n",
      "95% confidence interval of average queue length is:  [1.752839008895497, 1.4831609911045032]\n"
     ]
    }
   ],
   "source": [
    "\n",
    "# Average queue length\n",
    "mean = np.mean(q_length_1000)\n",
    "print(\"The average queue length is \", mean)\n",
    "\n",
    "#95% Confidence interval of average queue length\n",
    "std_err_mean = sts.sem(q_length_1000)\n",
    "np.std(q_length_1000)\n",
    "print(\"95% confidence interval of average queue length is: \", [mean + 1.96*std_err_mean, mean - 1.96*std_err_mean])\n"
   ]
  },
  {
   "cell_type": "markdown",
   "metadata": {},
   "source": [
    "## Compare the two results"
   ]
  },
  {
   "cell_type": "markdown",
   "metadata": {},
   "source": [
    "1. Whether and how the distribution (histogram) over queue length changed.\n",
    "\n",
    "    - Both distibutions follow exponential distribution\n",
    "    - However, when we run 1000 simulations, the histogram seems \"smoother\", ie the line seems to be more predictable. Furthermore, there was no distribution for queue length above 14, while with 100 simulations there were a few rare cases.\n",
    "    \n",
    "2. Whether and how the average queue length estimate changed.\n",
    "\n",
    "- The average for 100 simulations is 1.64, while the avg for 1000 simulations is 1.618. So the average didn't change much\n",
    "\n",
    "3. Whether and how the confidence interval of the average queue length changed.\n",
    "\n",
    "- The 95% confidence interval of 1000 simulations is significantly smaller than the 100 simulations:\n",
    "[1.483, 1.753] versus [1.182, 2.097]"
   ]
  },
  {
   "cell_type": "markdown",
   "metadata": {},
   "source": [
    "## Repeat the experiment but for different values of the arrival rate\n",
    "\n",
    "Make an error plot of\n",
    "the average queue length and its 95% confidence interval for different values of the arrival\n",
    "rate and determine when the average queue length exceeds 5 people."
   ]
  },
  {
   "cell_type": "code",
   "execution_count": 42,
   "metadata": {},
   "outputs": [],
   "source": [
    "arrival_rates = [0.8, 1, 1.2, 1.5, 2, 4]\n",
    "# Get all the simulation result\n",
    "queue_length_dict = {}\n",
    "for arrival_rate in arrival_rates:\n",
    "    q_length = []\n",
    "    for i in range(1000):\n",
    "        bus_system = run_simulation(\n",
    "            arrival_rate=arrival_rate, service_rate=1, run_until=100)\n",
    "        q_length.append(bus_system.queue.people_in_queue)\n",
    "    queue_length_dict[arrival_rate] = q_length\n"
   ]
  },
  {
   "cell_type": "code",
   "execution_count": 46,
   "metadata": {},
   "outputs": [
    {
     "data": {
      "image/png": "[encoded data removed]",
      "text/plain": [
       "<Figure size 432x288 with 1 Axes>"
      ]
     },
     "metadata": {
      "needs_background": "light"
     },
     "output_type": "display_data"
    }
   ],
   "source": [
    "# Get the 95% confidence intervals for each arrival rate\n",
    "means = []\n",
    "y_errs = []\n",
    "for rate in queue_length_dict:\n",
    "    mean = np.mean(queue_length_dict[rate])\n",
    "    std_err_mean = sts.sem(queue_length_dict[rate])\n",
    "    ci = [mean + 1.96*std_err_mean, mean - 1.96*std_err_mean]\n",
    "    y_err = (ci[0] - ci[1])/2\n",
    "    means.append(mean)\n",
    "    y_errs.append(y_err)\n",
    "\n",
    "plt.errorbar(\n",
    "    arrival_rates, means, y_errs,\n",
    "    color='black', marker='o', capsize=5, linestyle='--', linewidth=1)\n",
    "\n",
    "plt.title(\"Error rate for average queue lengths of different arrival rates\")\n",
    "plt.xlabel(\"Arrival rate\")\n",
    "plt.ylabel(\"Queue length at equilibrium\")\n",
    "plt.show()"
   ]
  },
  {
   "cell_type": "markdown",
   "metadata": {},
   "source": [
    "The average queue length exceeds 5 when arrival rate is around 0.95"
   ]
  },
  {
   "cell_type": "markdown",
   "metadata": {},
   "source": [
    "## Reflection"
   ]
  },
  {
   "cell_type": "markdown",
   "metadata": {},
   "source": [
    "#EmpiricalAnalysis:\n",
    "\n",
    "- The result is interpreted: for example, in the part where I compare the difference between the confidence intervals of running 1000 versus 100 simulations. \n",
    "- The stats analysis all follow the code from study guide\n",
    "\n",
    "#Professionalism:\n",
    "- The code is clean and well-documented\n",
    "- All the graphs have labels and titles"
   ]
  }
 ],
 "metadata": {
  "kernelspec": {
   "display_name": "Python 3",
   "language": "python",
   "name": "python3"
  },
  "language_info": {
   "codemirror_mode": {
    "name": "ipython",
    "version": 3
   },
   "file_extension": ".py",
   "mimetype": "text/x-python",
   "name": "python",
   "nbconvert_exporter": "python",
   "pygments_lexer": "ipython3",
   "version": "3.8.3"
  }
 },
 "nbformat": 4,
 "nbformat_minor": 4
}
